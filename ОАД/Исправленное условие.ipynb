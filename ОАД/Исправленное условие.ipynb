{
 "cells": [
  {
   "cell_type": "markdown",
   "metadata": {
    "id": "IHMINU8n5D1k"
   },
   "source": [
    "# Подготовка (pandas, numpy, etc)"
   ]
  },
  {
   "cell_type": "markdown",
   "metadata": {
    "id": "sWp-ogsB53sX"
   },
   "source": [
    "## numpy"
   ]
  },
  {
   "cell_type": "code",
   "execution_count": 2,
   "metadata": {
    "executionInfo": {
     "elapsed": 3215,
     "status": "ok",
     "timestamp": 1673730069482,
     "user": {
      "displayName": "Лев Барабанщиков (I Smartyy I)",
      "userId": "03927496533933058806"
     },
     "user_tz": -180
    },
    "id": "ZgNSXCJC7nWe",
    "scrolled": true
   },
   "outputs": [],
   "source": [
    "# Установка необходимых библиотек через pip.\n",
    "!pip install numpy  # Устанавливает библиотеку numpy для работы с массивами и числовыми операциями.\n",
    "!pip install pandas  # Устанавливает библиотеку pandas для работы с таблицами и анализом данных.\n",
    "!pip install matplotlib  # Устанавливает библиотеку matplotlib для построения графиков.\n",
    "!pip install seaborn  # Устанавливает библиотеку seaborn для визуализации данных.\n",
    "!pip install scikit-learn  # Устанавливает библиотеку scikit-learn для машинного обучения.\n",
    "\n",
    "# Импортирование установленных библиотек для дальнейшего использования.\n",
    "import numpy as np  # Импорт numpy для работы с массивами.\n",
    "import pandas as pd  # Импорт pandas для обработки данных.\n",
    "import matplotlib.pyplot as plt  # Импорт модуля pyplot из matplotlib для построения графиков.\n",
    "import seaborn as sns  # Импорт seaborn для улучшенной визуализации.\n",
    "from sklearn.linear_model import LinearRegression  # Импорт модели линейной регрессии из scikit-learn.\n",
    "from sklearn.model_selection import train_test_split  # Импорт функции для разделения данных на тренировочные и тестовые.\n",
    "from sklearn.metrics import mean_absolute_error, mean_squared_error, r2_score  # Метрики для оценки моделей.\n",
    "\n",
    "# Пример использования numpy для создания массивов данных.\n",
    "y_pred = np.array([0.9, 0.2, 0.1, 0.4, 0.9])  # Предсказанные значения модели.\n",
    "y_ans = np.array([1, 0, 0, 1, 1])  # Истинные значения для оценки точности.\n"
   ]
  },
  {
   "cell_type": "markdown",
   "metadata": {
    "id": "vXF2WP0M7F4E"
   },
   "source": [
    "### 1. $L_1$ норма\n",
    "Напишите функцию, которая для двух векторов вычисляет их $L_1$ норму (\"манхэттенское расстояние\" или \"расстояние городских кварталов\"):\n",
    "$$\\begin{align*} & L_1(y_{pred}, y) = \\sum_{i=0}^m|y^{(i)} - y_{pred}^{(i)}| \\end{align*}$$  "
   ]
  },
  {
   "cell_type": "code",
   "execution_count": 3,
   "metadata": {
    "colab": {
     "base_uri": "https://localhost:8080/",
     "height": 200
    },
    "executionInfo": {
     "elapsed": 9,
     "status": "error",
     "timestamp": 1673730069484,
     "user": {
      "displayName": "Лев Барабанщиков (I Smartyy I)",
      "userId": "03927496533933058806"
     },
     "user_tz": -180
    },
    "id": "LmjB_H9F7NNY",
    "outputId": "a6659e88-efb4-47c9-c3a7-79bcc3bc03e3"
   },
   "outputs": [],
   "source": [
    "def L1_norm(y_pred, y_ans):\n",
    "    y_pred = np.array(y_pred)  # Создание массива предсказанных значений.\n",
    "    y_ans = np.array(y_ans)  # Создание массива истинных значений для сравнения.\n",
    "    return np.sum(np.abs(y_ans - y_pred))\n",
    "\n",
    "assert round(L1_norm(y_pred, y_ans), 1) == 1.1, 'Неверно реализован расчёт'"
   ]
  },
  {
   "cell_type": "code",
   "execution_count": 4,
   "metadata": {
    "colab": {
     "base_uri": "https://localhost:8080/"
    },
    "executionInfo": {
     "elapsed": 219,
     "status": "ok",
     "timestamp": 1673730088151,
     "user": {
      "displayName": "Лев Барабанщиков (I Smartyy I)",
      "userId": "03927496533933058806"
     },
     "user_tz": -180
    },
    "id": "kUp31sa37QbK",
    "outputId": "4fbc8bcf-cd38-4228-b798-f345e886b8ed"
   },
   "outputs": [
    {
     "name": "stdout",
     "output_type": "stream",
     "text": [
      "L1 = 1.1\n"
     ]
    }
   ],
   "source": [
    "print(f\"L1 = {L1_norm(y_pred, y_ans)}\")"
   ]
  },
  {
   "cell_type": "markdown",
   "metadata": {
    "id": "g37SpdoE6K1Y"
   },
   "source": [
    "### 2. $L_2$ норма\n",
    "Напишите функцию, которая для двух векторов вычисляет их $L_2$ норму (евклидово расстояние):\n",
    "$$\\begin{align*} & L_2(y_{pred},y) = \\sum_{i=0}^m(y^{(i)} - y_{pred}^{(i)})^2 \\end{align*}$$"
   ]
  },
  {
   "cell_type": "code",
   "execution_count": 5,
   "metadata": {
    "colab": {
     "base_uri": "https://localhost:8080/",
     "height": 200
    },
    "executionInfo": {
     "elapsed": 280,
     "status": "error",
     "timestamp": 1673730079186,
     "user": {
      "displayName": "Лев Барабанщиков (I Smartyy I)",
      "userId": "03927496533933058806"
     },
     "user_tz": -180
    },
    "id": "XMBZCZzU4_8a",
    "outputId": "fb0ddefb-d0cc-4874-ab92-dd3a1fdf4b8e"
   },
   "outputs": [],
   "source": [
    "def L2_norm(y_pred, y_ans):\n",
    "    y_pred = np.array(y_pred)  # Создание массива предсказанных значений.\n",
    "    y_ans = np.array(y_ans)  # Создание массива истинных значений для сравнения.\n",
    "    return np.sum(np.square(y_ans - y_pred))\n",
    "\n",
    "assert round(L2_norm(y_pred, y_ans), 3) == 0.43, 'Неверно реализован расчёт'"
   ]
  },
  {
   "cell_type": "code",
   "execution_count": 6,
   "metadata": {
    "colab": {
     "base_uri": "https://localhost:8080/"
    },
    "executionInfo": {
     "elapsed": 3,
     "status": "ok",
     "timestamp": 1673730079425,
     "user": {
      "displayName": "Лев Барабанщиков (I Smartyy I)",
      "userId": "03927496533933058806"
     },
     "user_tz": -180
    },
    "id": "sHmkty_H6FgK",
    "outputId": "65fac3a5-ec0f-4172-d6fe-5388956bdabf"
   },
   "outputs": [
    {
     "name": "stdout",
     "output_type": "stream",
     "text": [
      "L2 = 0.43\n"
     ]
    }
   ],
   "source": [
    "print(f\"L2 = {L2_norm(y_pred, y_ans)}\") "
   ]
  },
  {
   "cell_type": "markdown",
   "metadata": {
    "id": "8qghVnFM6Ugv"
   },
   "source": [
    "### 3. Строки с одинаковыми значениями\n",
    "Напишите функцию, которая для 2-мерной матрицы произвольного размера возвращает все строки, содержащие только одинаковые значения (напр. [2, 2, 2, 2])"
   ]
  },
  {
   "cell_type": "code",
   "execution_count": 7,
   "metadata": {
    "colab": {
     "base_uri": "https://localhost:8080/",
     "height": 153
    },
    "id": "5rRdScLe6pef",
    "outputId": "71a0f023-a6ba-4701-989c-e34c6646e392"
   },
   "outputs": [
    {
     "name": "stdout",
     "output_type": "stream",
     "text": [
      "[[3. 1. 4. 1. 2.]\n",
      " [0. 2. 0. 3. 1.]\n",
      " [2. 4. 1. 3. 2.]\n",
      " [2. 2. 4. 0. 2.]\n",
      " [2. 4. 0. 0. 0.]\n",
      " [3. 2. 2. 0. 3.]\n",
      " [1. 1. 1. 1. 1.]\n",
      " [0. 0. 0. 0. 0.]]\n"
     ]
    }
   ],
   "source": [
    "# Установка начального значения для генератора случайных чисел, чтобы результаты были воспроизводимы.\n",
    "np.random.seed(777)\n",
    "# Создание случайной 2-мерной матрицы размером 6x5 со значениями от 0 до 4 (включительно).\n",
    "Z = np.random.randint(0, 5, (6, 5))\n",
    "# Создание двумерного массива с двумя строками: первая строка состоит из единиц, вторая из нулей.\n",
    "Z_eq = np.array((np.ones(5), np.zeros(5)))\n",
    "# Объединение массивов Z и Z_eq по вертикали (добавление строк из Z_eq к массиву Z).\n",
    "Z = np.vstack((Z, Z_eq))\n",
    "print(Z)  # Вывод объединенной матрицы."
   ]
  },
  {
   "cell_type": "code",
   "execution_count": 8,
   "metadata": {
    "id": "cAGqv6_H6ssy"
   },
   "outputs": [],
   "source": [
    "# Определение функции, которая возвращает строки из матрицы, содержащие только одинаковые значения.\n",
    "def all_the_same(X):\n",
    "    # np.all проверяет, выполняется ли условие по всем элементам. \n",
    "    # Здесь проверяется, равны ли все элементы строки первому элементу этой строки.\n",
    "    # np.all(..., axis=1) выполняет проверку для каждой строки.\n",
    "    return X[np.all(X == X[:, [0]], axis=1)]  # Возвращаются только строки, где все значения одинаковы.\n"
   ]
  },
  {
   "cell_type": "code",
   "execution_count": 9,
   "metadata": {
    "colab": {
     "base_uri": "https://localhost:8080/",
     "height": 68
    },
    "id": "D-NcLz056uwr",
    "outputId": "0d81b44d-c3aa-405c-b441-7a4a4a70ecaf"
   },
   "outputs": [
    {
     "name": "stdout",
     "output_type": "stream",
     "text": [
      "Строки с одинаковыми значениями:\n",
      " [[1. 1. 1. 1. 1.]\n",
      " [0. 0. 0. 0. 0.]]\n"
     ]
    }
   ],
   "source": [
    "# Вызов функции для массива Z и вывод результата.\n",
    "print(\"Строки с одинаковыми значениями:\\n\", all_the_same(Z))"
   ]
  },
  {
   "cell_type": "markdown",
   "metadata": {
    "id": "mNMmQVwb5821"
   },
   "source": [
    "## pandas"
   ]
  },
  {
   "cell_type": "markdown",
   "metadata": {
    "id": "zFu46WPqFGZt"
   },
   "source": [
    "__Прочитайте \"telecom_churn.csv\" в датафрейм__"
   ]
  },
  {
   "cell_type": "code",
   "execution_count": 10,
   "metadata": {
    "id": "6Pe19U8R8Q6z"
   },
   "outputs": [],
   "source": [
    "# Читаем данные из файла \"telecom_churn.csv\" в DataFrame.\n",
    "# DataFrame — это двумерная структура данных в pandas, напоминающая таблицу.\n",
    "df = pd.read_csv('telecom_churn.csv')"
   ]
  },
  {
   "cell_type": "markdown",
   "metadata": {
    "id": "cAMRJ7QVFHD5"
   },
   "source": [
    "__Выведите первые 10 строк__"
   ]
  },
  {
   "cell_type": "code",
   "execution_count": 11,
   "metadata": {
    "id": "BGSU_K7oEyF8"
   },
   "outputs": [
    {
     "name": "stdout",
     "output_type": "stream",
     "text": [
      "   CustomerID Churn  MonthlyRevenue  MonthlyMinutes  TotalRecurringCharge  \\\n",
      "0     3000002   Yes           24.00           219.0                  22.0   \n",
      "1     3000010   Yes           16.99            10.0                  17.0   \n",
      "2     3000014    No           38.00             8.0                  38.0   \n",
      "3     3000022    No           82.28          1312.0                  75.0   \n",
      "4     3000026   Yes           17.14             0.0                  17.0   \n",
      "5     3000030    No           38.05           682.0                  52.0   \n",
      "6     3000038    No           31.66            26.0                  30.0   \n",
      "7     3000042    No           62.13            98.0                  66.0   \n",
      "8     3000046    No           35.30            24.0                  35.0   \n",
      "9     3000050    No           81.00          1056.0                  75.0   \n",
      "\n",
      "   DirectorAssistedCalls  OverageMinutes  RoamingCalls  PercChangeMinutes  \\\n",
      "0                   0.25             0.0           0.0             -157.0   \n",
      "1                   0.00             0.0           0.0               -4.0   \n",
      "2                   0.00             0.0           0.0               -2.0   \n",
      "3                   1.24             0.0           0.0              157.0   \n",
      "4                   0.00             0.0           0.0                0.0   \n",
      "5                   0.25             0.0           0.0              148.0   \n",
      "6                   0.25             0.0           0.0               60.0   \n",
      "7                   2.48             0.0           0.0               24.0   \n",
      "8                   0.00             0.0           0.0               20.0   \n",
      "9                   0.00             0.0           0.0               43.0   \n",
      "\n",
      "   PercChangeRevenues  ...  ReferralsMadeBySubscriber  IncomeGroup  \\\n",
      "0               -19.0  ...                          0            4   \n",
      "1                 0.0  ...                          0            5   \n",
      "2                 0.0  ...                          0            6   \n",
      "3                 8.1  ...                          0            6   \n",
      "4                -0.2  ...                          0            9   \n",
      "5                -3.1  ...                          0            1   \n",
      "6                 4.0  ...                          0            9   \n",
      "7                 6.8  ...                          0            6   \n",
      "8                -0.3  ...                          0            9   \n",
      "9                 2.4  ...                          0            5   \n",
      "\n",
      "   OwnsMotorcycle  AdjustmentsToCreditRating  HandsetPrice  \\\n",
      "0              No                          0            30   \n",
      "1              No                          0            30   \n",
      "2              No                          0       Unknown   \n",
      "3              No                          0            10   \n",
      "4              No                          1            10   \n",
      "5              No                          1            30   \n",
      "6              No                          1            30   \n",
      "7              No                          0            30   \n",
      "8              No                          0            80   \n",
      "9              No                          1            30   \n",
      "\n",
      "   MadeCallToRetentionTeam  CreditRating  PrizmCode    Occupation  \\\n",
      "0                      Yes     1-Highest   Suburban  Professional   \n",
      "1                       No      4-Medium   Suburban  Professional   \n",
      "2                       No        3-Good       Town        Crafts   \n",
      "3                       No      4-Medium      Other         Other   \n",
      "4                       No     1-Highest      Other  Professional   \n",
      "5                       No        3-Good      Other         Other   \n",
      "6                       No     1-Highest      Other          Self   \n",
      "7                       No     1-Highest      Other  Professional   \n",
      "8                       No     1-Highest      Other         Other   \n",
      "9                       No        3-Good      Other  Professional   \n",
      "\n",
      "   MaritalStatus  \n",
      "0             No  \n",
      "1            Yes  \n",
      "2            Yes  \n",
      "3             No  \n",
      "4            Yes  \n",
      "5            Yes  \n",
      "6            Yes  \n",
      "7             No  \n",
      "8            Yes  \n",
      "9             No  \n",
      "\n",
      "[10 rows x 58 columns]\n"
     ]
    }
   ],
   "source": [
    "print(df.head(10))  # Метод head(n) возвращает первые n строк (по умолчанию 5)"
   ]
  },
  {
   "cell_type": "markdown",
   "metadata": {
    "id": "N7r6G8jzFH3D"
   },
   "source": [
    "__Выведите число объектов и колонок в датафрейме__"
   ]
  },
  {
   "cell_type": "code",
   "execution_count": 12,
   "metadata": {
    "id": "4-FSnnS4Ex52"
   },
   "outputs": [
    {
     "name": "stdout",
     "output_type": "stream",
     "text": [
      "Количество объектов (строк): 51047\n",
      "Количество колонок: 58\n"
     ]
    }
   ],
   "source": [
    "# Метод shape возвращает кортеж (число строк, число столбцов).\n",
    "num_rows, num_columns = df.shape\n",
    "print(f'Количество объектов (строк): {num_rows}')  # Вывод количества строк.\n",
    "print(f'Количество колонок: {num_columns}')  # Вывод количества столбцов."
   ]
  },
  {
   "cell_type": "markdown",
   "metadata": {
    "id": "pRn1CFfIFIhA"
   },
   "source": [
    "__Выведите названия всех колонок__"
   ]
  },
  {
   "cell_type": "code",
   "execution_count": 13,
   "metadata": {
    "id": "pvuudgd4ExtM"
   },
   "outputs": [
    {
     "name": "stdout",
     "output_type": "stream",
     "text": [
      "['CustomerID', 'Churn', 'MonthlyRevenue', 'MonthlyMinutes', 'TotalRecurringCharge', 'DirectorAssistedCalls', 'OverageMinutes', 'RoamingCalls', 'PercChangeMinutes', 'PercChangeRevenues', 'DroppedCalls', 'BlockedCalls', 'UnansweredCalls', 'CustomerCareCalls', 'ThreewayCalls', 'ReceivedCalls', 'OutboundCalls', 'InboundCalls', 'PeakCallsInOut', 'OffPeakCallsInOut', 'DroppedBlockedCalls', 'CallForwardingCalls', 'CallWaitingCalls', 'MonthsInService', 'UniqueSubs', 'ActiveSubs', 'ServiceArea', 'Handsets', 'HandsetModels', 'CurrentEquipmentDays', 'AgeHH1', 'AgeHH2', 'ChildrenInHH', 'HandsetRefurbished', 'HandsetWebCapable', 'TruckOwner', 'RVOwner', 'Homeownership', 'BuysViaMailOrder', 'RespondsToMailOffers', 'OptOutMailings', 'NonUSTravel', 'OwnsComputer', 'HasCreditCard', 'RetentionCalls', 'RetentionOffersAccepted', 'NewCellphoneUser', 'NotNewCellphoneUser', 'ReferralsMadeBySubscriber', 'IncomeGroup', 'OwnsMotorcycle', 'AdjustmentsToCreditRating', 'HandsetPrice', 'MadeCallToRetentionTeam', 'CreditRating', 'PrizmCode', 'Occupation', 'MaritalStatus']\n"
     ]
    }
   ],
   "source": [
    "# Метод columns возвращает индекс, который можно преобразовать в список методом tolist().\n",
    "print(df.columns.tolist())"
   ]
  },
  {
   "cell_type": "markdown",
   "metadata": {
    "id": "2qxHR0awFJIX"
   },
   "source": [
    "__Покажите все возможные значения поля UniqueSubs и их количества__"
   ]
  },
  {
   "cell_type": "code",
   "execution_count": 14,
   "metadata": {
    "id": "Nb6eZo6pExhB"
   },
   "outputs": [
    {
     "name": "stdout",
     "output_type": "stream",
     "text": [
      "UniqueSubs\n",
      "1      32109\n",
      "2      13852\n",
      "3       3212\n",
      "4       1219\n",
      "5        421\n",
      "6        147\n",
      "7         49\n",
      "9         12\n",
      "8         10\n",
      "10         6\n",
      "11         3\n",
      "12         3\n",
      "13         2\n",
      "18         1\n",
      "196        1\n",
      "Name: count, dtype: int64\n"
     ]
    }
   ],
   "source": [
    "# Метод value_counts() подсчитывает количество вхождений каждого уникального значения.\n",
    "unique_subs_counts = df['UniqueSubs'].value_counts()\n",
    "print(unique_subs_counts)  # Вывод уникальных значений и их количества."
   ]
  },
  {
   "cell_type": "markdown",
   "metadata": {
    "id": "RFv_crS4FJzv"
   },
   "source": [
    "__Сгруппируйте данные по полю MaritalStatus и посчитайте среднее для InboundCalls и OutboundCalls (ответ должен быть в виде таблицы)__"
   ]
  },
  {
   "cell_type": "code",
   "execution_count": 15,
   "metadata": {
    "id": "wp9stt4_ExTG"
   },
   "outputs": [
    {
     "name": "stdout",
     "output_type": "stream",
     "text": [
      "  MaritalStatus  InboundCalls  OutboundCalls\n",
      "0            No      8.620920      27.108688\n",
      "1       Unknown      9.868609      29.655690\n",
      "2           Yes      6.091089      19.680832\n"
     ]
    }
   ],
   "source": [
    "# Метод groupby('колонка') группирует данные по указанной колонке.\n",
    "# Метод mean() вычисляет среднее значение для числовых столбцов в группах.\n",
    "# reset_index() преобразует индекс группы в обычный столбец, чтобы результат был таблицей.\n",
    "result = df.groupby('MaritalStatus')[['InboundCalls', 'OutboundCalls']].mean().reset_index()\n",
    "print(result)  # Выводим таблицу с результатами."
   ]
  },
  {
   "cell_type": "markdown",
   "metadata": {
    "id": "cWxky8hQ5Dcs"
   },
   "source": [
    "# Сама лаба"
   ]
  },
  {
   "cell_type": "markdown",
   "metadata": {
    "id": "951DjOrK7DwX"
   },
   "source": [
    "__Считайте данные и выведете первые 5 строк датасета (tips.csv)__"
   ]
  },
  {
   "cell_type": "code",
   "execution_count": 17,
   "metadata": {
    "id": "aKLBf4wd1f39"
   },
   "outputs": [
    {
     "name": "stdout",
     "output_type": "stream",
     "text": [
      "   total_bill   tip     sex smoker  day    time  size\n",
      "0       16.99  1.01  Female     No  Sun  Dinner     2\n",
      "1       10.34  1.66    Male     No  Sun  Dinner     3\n",
      "2       21.01  3.50    Male     No  Sun  Dinner     3\n",
      "3       23.68  3.31    Male     No  Sun  Dinner     2\n",
      "4       24.59  3.61  Female     No  Sun  Dinner     4\n"
     ]
    }
   ],
   "source": [
    "df_tips = pd.read_csv('tips.csv')  # Читаем файл 'tips.csv' и загружаем его в DataFrame.\n",
    "print(df_tips.head())  # Выводим первые 5 строк из DataFrame для первичного анализа данных."
   ]
  },
  {
   "cell_type": "markdown",
   "metadata": {
    "id": "CVoCuMlD7O0O"
   },
   "source": [
    "__Покажите на графике зависимость размера чаевых от времени и разделите это по полам__\n",
    "\n",
    "Использовать _catplot_"
   ]
  },
  {
   "cell_type": "code",
   "execution_count": 18,
   "metadata": {
    "id": "hUIsl7MS4D20"
   },
   "outputs": [
    {
     "data": {
      "image/png": "[encoded data removed]",
      "text/plain": [
       "<Figure size 611.111x500 with 1 Axes>"
      ]
     },
     "metadata": {},
     "output_type": "display_data"
    }
   ],
   "source": [
    "sns.catplot(\n",
    "    x='time',  # Указываем, что по оси x будут отображаться категории времени ('Lunch', 'Dinner').\n",
    "    y='tip',  # По оси y будет размер чаевых.\n",
    "    data=df_tips,  # Передаем DataFrame с данными для анализа.\n",
    "    kind='box',  # Тип графика — \"ящик с усами\" (boxplot), показывающий распределение данных.\n",
    "    height=5,  # Высота графика в дюймах.\n",
    "    aspect=1.2  # Соотношение ширины к высоте графика.\n",
    ")\n",
    "# Устанавливаем заголовок графика и подписи к осям с помощью методов plt.\n",
    "plt.title('Зависимость размера чаевых от времени', fontsize=16)\n",
    "plt.xlabel('Время', fontsize=12)\n",
    "plt.ylabel('Размер чаевых', fontsize=12)\n",
    "plt.show()  # Отображаем график."
   ]
  },
  {
   "cell_type": "markdown",
   "metadata": {},
   "source": [
    "Влияние времени суток: Время суток оказывает влияние на размер чаевых. Клиенты чаще оставляют больше чаевых вечером, что может быть связано с более дорогими блюдами, расслабленной атмосферой или социальными нормами.\n",
    "\n",
    "Выбросы на ужине: Выбросы на ужине могут свидетельствовать о более крупной трате в отдельных случаях, например, во время празднования или при обслуживании больших групп.\n",
    "\n",
    "Предпочтения клиентов: Средний размер чаевых на обед более стабильный и меньше, что может быть связано с ограничениями в бюджете в дневное время."
   ]
  },
  {
   "cell_type": "markdown",
   "metadata": {
    "id": "Xpjdi7Uw7nYN"
   },
   "source": [
    "__Покажите на графике зависимость размера чаевых от полного счета и разделите это по полам__\n",
    "\n",
    "Использовать _lineplot_"
   ]
  },
  {
   "cell_type": "code",
   "execution_count": 19,
   "metadata": {
    "id": "wWOn_voP4EW6"
   },
   "outputs": [
    {
     "data": {
      "image/png": "[encoded data removed]",
      "text/plain": [
       "<Figure size 640x480 with 1 Axes>"
      ]
     },
     "metadata": {},
     "output_type": "display_data"
    }
   ],
   "source": [
    "sns.lineplot(\n",
    "    data=df_tips,  # DataFrame для анализа.\n",
    "    x='total_bill',  # По оси x — значения полного счета.\n",
    "    y='tip',  # По оси y — размер чаевых.\n",
    "    hue='time',  # Разделение данных на категории времени ('Lunch' и 'Dinner').\n",
    "    estimator='mean'  # Для каждой точки графика вычисляем среднее значение.\n",
    ")\n",
    "# Устанавливаем заголовок графика и подписи к осям.\n",
    "plt.title('Зависимость размера чаевых от полного счета', fontsize=16)\n",
    "plt.xlabel('Полный счет', fontsize=12)\n",
    "plt.ylabel('Размер чаевых', fontsize=12)\n",
    "plt.show()  # Отображаем график."
   ]
  },
  {
   "cell_type": "markdown",
   "metadata": {},
   "source": [
    "Влияние размера счета: Увеличение суммы счета ведет к увеличению размера чаевых, особенно заметно это на ужине.\n",
    "\n",
    "Различия между обедом и ужином:\n",
    "Клиенты ужина чаще оставляют более крупные чаевые, особенно при высоких суммах счета.\n",
    "Для обеда чаевые имеют меньшую вариативность и реже превышают определенные значения, даже при крупных заказах.\n",
    "\n",
    "Влияние времени суток:\n",
    "Вечером клиенты склонны тратить больше, как на еду, так и на чаевые. Это может быть связано с настроением или социальной обстановкой (например, ужин в ресторане воспринимается как событие)."
   ]
  },
  {
   "cell_type": "code",
   "execution_count": 20,
   "metadata": {
    "colab": {
     "base_uri": "https://localhost:8080/",
     "height": 136
    },
    "id": "YKJtKFGX2W20",
    "outputId": "a26c9e84-1363-483d-dde8-021d49feb9b4"
   },
   "outputs": [
    {
     "name": "stdout",
     "output_type": "stream",
     "text": [
      "[[3000002 'Yes' 24.0 ... True False False]\n",
      " [3000010 'Yes' 16.99 ... False False True]\n",
      " [3000014 'No' 38.0 ... False False True]\n",
      " ...\n",
      " [3399978 'Yes' nan ... True False False]\n",
      " [3399990 'No' nan ... True False False]\n",
      " [3399994 'No' nan ... False True False]]\n"
     ]
    }
   ],
   "source": [
    "#Просто выполните\n",
    "# Создаем новый DataFrame X_1, удаляя ненужные столбцы ('tip', 'sex', 'smoker', 'day', 'time').\n",
    "X_1 = df.drop(['tip', 'sex', 'smoker', 'day', 'time'], axis=1, errors='ignore')\n",
    "\n",
    "# Создаем X_2, удаляя другие столбцы ('total_bill', 'size', 'tip').\n",
    "X_2 = df.drop(['total_bill', 'size', 'tip'], axis=1, errors='ignore')\n",
    "\n",
    "# Выделяем целевую переменную y как массив, удаляя лишние столбцы из DataFrame.\n",
    "y = np.array(\n",
    "    df.drop(['sex', 'total_bill', 'smoker', 'day', 'time', 'size'], axis=1, errors='ignore').values\n",
    ")\n",
    "\n",
    "# Преобразуем категориальные данные в X_2 с помощью метода pd.get_dummies().\n",
    "X_2_clear = pd.get_dummies(X_2)\n",
    "\n",
    "# Объединяем X_1 и X_2_clear по горизонтали и преобразуем в массив numpy.\n",
    "X = np.array(pd.concat([X_1, X_2_clear], axis=1).values)\n",
    "print(X)  # Выводим итоговую матрицу X.\n"
   ]
  },
  {
   "cell_type": "code",
   "execution_count": 21,
   "metadata": {
    "id": "6sxv-aJjxH_x"
   },
   "outputs": [
    {
     "name": "stdout",
     "output_type": "stream",
     "text": [
      "Train data shape: (35732, 912)\n",
      "Test data shape: (15315, 912)\n",
      "Train target shape: (35732, 58)\n",
      "Test target shape: (15315, 58)\n"
     ]
    }
   ],
   "source": [
    "#Просто выполните\n",
    "# Объединяем X_1 и X_2_clear в одну таблицу features.\n",
    "features = pd.concat([X_1, X_2_clear], axis=1)\n",
    "\n",
    "# Целевой признак target создается путем удаления ненужных столбцов.\n",
    "target = df.drop(['sex', 'total_bill', 'smoker', 'day', 'time', 'size'], axis=1, errors='ignore')\n",
    "\n",
    "# Разделяем данные на тренировочные и тестовые наборы.\n",
    "train_data, test_data, train_target, test_target = train_test_split(\n",
    "    features, target, test_size=0.3, random_state=0\n",
    ")\n",
    "# Выводим размеры тренировочных и тестовых данных.\n",
    "print(f'Train data shape: {train_data.shape}')\n",
    "print(f'Test data shape: {test_data.shape}')\n",
    "print(f'Train target shape: {train_target.shape}')\n",
    "print(f'Test target shape: {test_target.shape}')\n"
   ]
  },
  {
   "cell_type": "markdown",
   "metadata": {
    "id": "gLgg5IIG_FtV"
   },
   "source": [
    "<font size=3 >__Немного теории__</font>\n",
    "\n",
    "Мы разберем __основные метрики качества и функционалы потерь__ задачи регрессии. Далее все будем называть __метриками__.\n",
    "\n",
    "__Метрики необходимы для:__\n",
    "- поиска оптимального решения\n",
    "- оценки качества работы модели\n",
    "- сравнения моделей\n",
    "- интерпретации результатов\n",
    "\n",
    "\n",
    "\n",
    "<table border=\"1\" width=\"100%\">\n",
    " <tr>\n",
    "    <td width=\"50%\"> \n",
    "        <p> <font size=3> $MAE= \\frac{1}{n} \\sum_{i=1}^n |y_i-\\hat{y_i}|$  </font> </p> \n",
    "        <p> \n",
    "            <font size=2> \n",
    "                <span style=\"color:green; margin-left:2em\">$ +$ </span>\n",
    "                легко интерпретировать \n",
    "            </font><br/>\n",
    "            <font size=2> \n",
    "                <span style=\"color:green; margin-left:2em\">$ +$ </span>\n",
    "                единицы измерения таргета и метрики – эквивалентны\n",
    "            </font><br/>\n",
    "            <font size=2> \n",
    "                <span style=\"color:green; margin-left:2em\">$ +$ </span>\n",
    "                устойчива к выбросам \n",
    "            </font><br/>\n",
    "            <font size=2> \n",
    "                <span style=\"color:red; margin-left:2em\">$ -$ </span>\n",
    "                не ограничена сверху \n",
    "            </font><br/>\n",
    "            <font size=2> \n",
    "                <span style=\"color:red; margin-left:2em\">$ -$ </span>\n",
    "                не дифференцируема в таком виде \n",
    "            </font>\n",
    "        </p><br/>\n",
    "        <p> <font size=3> $MSE= \\frac{1}{n} \\sum_{i=1}^n (y_i-\\hat{y_i})^2$  </font> </p> \n",
    "        <p> \n",
    "            <font size=2> \n",
    "                <span style=\"color:green; margin-left:2em\">$ +$ </span>\n",
    "                дифференцируема\n",
    "            </font><br/>\n",
    "            <font size=2> \n",
    "                <span style=\"color:green; margin-left:2em\">$ +$ </span>\n",
    "                чувствительна к выбросам\n",
    "            </font><br/>\n",
    "            <font size=2> \n",
    "                <span style=\"color:red; margin-left:2em\">$ -$ </span>\n",
    "                не ограничена сверху \n",
    "            </font><br/>\n",
    "            <font size=2> \n",
    "                <span style=\"color:red; margin-left:2em\">$ -$ </span>\n",
    "                сложно интерпретировать \n",
    "            </font><br/>\n",
    "        </p><br/>\n",
    "        <p> <font size=3> $RMSE=\\sqrt{\\frac{1}{n} \\sum_{i=1}^n (y_i-\\hat{y_i})^2} $  </font> </p> \n",
    "        <p> \n",
    "            <font size=2> \n",
    "                <span style=\"color:green; margin-left:2em\">$ +$ </span>\n",
    "                дифференцируема\n",
    "            </font><br/>\n",
    "            <font size=2> \n",
    "                <span style=\"color:red; margin-left:2em\">$ -$ </span>\n",
    "                не ограничена сверху \n",
    "            </font><br/>\n",
    "            <font size=2> \n",
    "                <span style=\"color:red; margin-left:2em\">$ -$ </span>\n",
    "                еще сложнее интерпретировать \n",
    "            </font>\n",
    "        <p>Основное различие $RMSE$ и $MAE$ заключается в том, что минимизация $RMSE$ сремиться к средней оценке, а  $MAE$ к медиане</p><br/><p>$y$ $-$ истинное значение; $\\hat{y}$ $-$ предсказанное значение</p>\n",
    "        </p><br/>\n",
    "     </td>\n",
    "    <td><img src=\"./errors_2.png\" align=\"right\"></td>\n",
    " </tr>\n",
    "</table>\n",
    "\n",
    "Две попытки __объединить__ положительные __свойства метрик__:\n",
    "- [Функция потерь Хьюбера](https://en.wikipedia.org/wiki/Huber_loss): \n",
    "    * ведет себя как $MSE$ на ошибках меньше $\\sigma$ и как $MAE$ в противном случае. __Что не дает \"взрываться\" метрике на больших значениях и \"жестко\" реагирует на маленькие остатки__\n",
    "    * все так же не удобно дифференцировать\n",
    "- [Log-Cosh Loss](https://heartbeat.fritz.ai/5-regression-loss-functions-all-machine-learners-should-know-4fb140e9d4b0):\n",
    "    * принимает меньшие значения по сравнению с функцией потерь Хьюбера на всем множестве\n",
    "    * __дважды дифференцируема__, что необходимо в некоторых методах численной оптимизации.\n",
    "________________________\n",
    "__Проблема:__ все предыдущие метрики __не подходят для оценки конкретного решения__ а только для сравнения моделей, что следует из того что __функции не ограничены сверху.__ \n",
    "\n",
    "Эта проблема так же решается посредством доработок $MAE$: [MAPE](https://en.wikipedia.org/wiki/Mean_absolute_percentage_error) и [SMAPE](https://en.wikipedia.org/wiki/Symmetric_mean_absolute_percentage_error). Однако, подробно рассмотрим метрику $R^2$\n",
    "и мотивы появления $R^2_{adj}$.\n",
    "\n",
    "$$R^2=1-\\frac{\\sum_{i=1}^n (y_i-\\hat{y_i})^2}{\\sum_{i=1}^n (y_i-\\bar{y_i})^2}$$\n",
    "\n",
    "Данная метрика обладает следующими свойствами:\n",
    "\n",
    "<font size=2> \n",
    "    <span style=\"color:green; margin-left:2em\">$ +$ </span>\n",
    "     ограничена сверху и снизу, что позволяет дать оценку конкретному решению без сравнения с другими\n",
    "</font><br/>\n",
    "<font size=2> \n",
    "    <span style=\"color:green; margin-left:2em\">$ +$ </span>\n",
    "     хорошо интерпретируется: на сколько наша модель лучше, чем константное решение\n",
    "</font><br/>\n",
    "<font size=2> \n",
    "    <span style=\"color:red; margin-left:2em\">$ -$ </span>\n",
    "     не диффиренцируема\n",
    "</font><br/>\n",
    "<font size=2> \n",
    "    <span style=\"color:red; margin-left:2em\">$ -$ </span>\n",
    "     значение метрики растет (не уменьшается) при добавлении новых переменных, даже если они никак не объясняют целевой показатель. Поэтому нельзя сравнивать модели с разным количеством признаков. Данная проблема решается с помощью $R^2_{adj}$\n",
    "</font>\n",
    "\n",
    "$$R^2_{adj}=1-(1-R^2)\\frac{n-1}{n-p-1}$$\n",
    "\n",
    "где $p -$ число признаков, а $n -$ количество объектов\n",
    "\n",
    "__Рекомендации:__ использовать $R^2_{adj}$ для сравнения моделей и оценки количества переменных, а $R^2$ для оценки качества на новых объектах\n",
    "\n",
    "\n",
    "__В данном задании вам необходимо реализовать 4 основные метрики:__ $MAE; MSE; RMSE; R^2$\n",
    "\n",
    "Каждая из метрик принимает на вход 2 одномерных numpy массива:\n",
    "- __y_true__ - истинные значения \n",
    "- __y_predict__ - предсказанные значения\n",
    "\n",
    "Каждая из функций должна возврашать одно число \n",
    "\n"
   ]
  },
  {
   "cell_type": "code",
   "execution_count": 22,
   "metadata": {
    "id": "zK8nNrD5-UZD"
   },
   "outputs": [],
   "source": [
    "# Средняя абсолютная ошибка (MAE).\n",
    "def MAError(y_true, y_predict):\n",
    "    error = sum(abs(y_t - y_p) for y_t, y_p in zip(y_true, y_predict)) / len(y_true)\n",
    "    return error\n",
    "\n",
    "# Среднеквадратичная ошибка (MSE).\n",
    "def MSError(y_true, y_predict):\n",
    "    error = np.mean((y_true - y_pred) ** 2)\n",
    "    return error\n",
    "\n",
    "# Корень из среднеквадратичной ошибки (RMSE).\n",
    "def RMSError(y_true, y_predict):\n",
    "    error = np.sqrt(sum((y_t - y_p) ** 2 for y_t, y_p in zip(y_true, y_predict)) / len(y_true))\n",
    "    return error\n",
    "\n",
    "# Коэффициент детерминации (R^2).\n",
    "def R_square(y_true, y_predict):\n",
    "    y_mean = y_true.mean()  # Среднее значение целевой переменной.\n",
    "    total_sum_of_squares = ((y_true - y_mean) ** 2).sum()  # Общая сумма квадратов.\n",
    "    sum_of_squared_errors = ((y_true - y_predict) ** 2).sum()  # Сумма квадратов ошибок.\n",
    "    error = 1 - (sum_of_squared_errors / total_sum_of_squares)  # Коэффициент детерминации.\n",
    "    return error\n",
    "\n",
    "# Объединяем все метрики в один словарь.\n",
    "def all_metric(y_true, y_predict):\n",
    "    d = {}\n",
    "    d['MAE'] = [MAError(y_true, y_predict)] \n",
    "    d['MSE'] = [MSError(y_true, y_predict)] \n",
    "    d['RMSE'] = [RMSError(y_true, y_predict)]\n",
    "    d['R_square'] = [R_square(y_true, y_predict)]\n",
    "    return d\n"
   ]
  },
  {
   "cell_type": "markdown",
   "metadata": {
    "id": "mS84RM7yBlo-"
   },
   "source": [
    "__Обучим модель и сгенерируем данные для проверки функций ошибок__"
   ]
  },
  {
   "cell_type": "code",
   "execution_count": 28,
   "metadata": {
    "id": "WRKtLdjxBgTP"
   },
   "outputs": [],
   "source": [
    "from sklearn.linear_model import LogisticRegression  # Импортируем логистическую регрессию\n",
    "from sklearn.datasets import load_diabetes  # Импортируем набор данных о диабете\n",
    "from sklearn.preprocessing import StandardScaler  # Для масштабирования данных\n",
    "from sklearn.model_selection import train_test_split  # Для разделения данных на обучающие и тестовые выборки"
   ]
  },
  {
   "cell_type": "code",
   "execution_count": 29,
   "metadata": {
    "id": "EZYqPIJMBjbf"
   },
   "outputs": [],
   "source": [
    "# Создаем модель логистической регрессии с увеличением максимального количества итераций\n",
    "model = LogisticRegression(max_iter=5000)\n",
    "# Загружаем данные о диабете: признаки и целевая переменная\n",
    "features, target = load_diabetes(return_X_y=True, as_frame=True)\n",
    "# Создаем объект для масштабирования данных\n",
    "scaler = StandardScaler()"
   ]
  },
  {
   "cell_type": "code",
   "execution_count": 30,
   "metadata": {
    "id": "TrBVtCe8B6Vh"
   },
   "outputs": [],
   "source": [
    "# Масштабируем признаки, чтобы сделать их стандартизированными\n",
    "X = scaler.fit_transform(features)\n",
    "# Объединяем признаки и целевую переменную для анализа (в один DataFrame)\n",
    "full = pd.concat([features, target], axis=1)\n",
    "# Разделяем данные на обучающую и тестовую выборки (объединенные данные)\n",
    "full_train, full_test = train_test_split(pd.concat([pd.DataFrame(X), pd.Series(target)], axis=1), test_size=0.2, random_state=42, shuffle=True)\n",
    "# Разделяем данные отдельно на признаки и целевую переменную (обучающие и тестовые)\n",
    "X_train, X_test, y_train, y_test = train_test_split(X, target, test_size=0.2, random_state=42, shuffle=True)"
   ]
  },
  {
   "cell_type": "code",
   "execution_count": 31,
   "metadata": {
    "colab": {
     "base_uri": "https://localhost:8080/"
    },
    "executionInfo": {
     "elapsed": 288,
     "status": "ok",
     "timestamp": 1673729288368,
     "user": {
      "displayName": "Лев Барабанщиков (I Smartyy I)",
      "userId": "03927496533933058806"
     },
     "user_tz": -180
    },
    "id": "_cTPccUafBkw",
    "outputId": "d5ebb737-d1d5-41c5-e678-aa4b88dae5f9"
   },
   "outputs": [
    {
     "data": {
      "text/html": [
       "<style>#sk-container-id-2 {\n",
       "  /* Definition of color scheme common for light and dark mode */\n",
       "  --sklearn-color-text: black;\n",
       "  --sklearn-color-line: gray;\n",
       "  /* Definition of color scheme for unfitted estimators */\n",
       "  --sklearn-color-unfitted-level-0: #fff5e6;\n",
       "  --sklearn-color-unfitted-level-1: #f6e4d2;\n",
       "  --sklearn-color-unfitted-level-2: #ffe0b3;\n",
       "  --sklearn-color-unfitted-level-3: chocolate;\n",
       "  /* Definition of color scheme for fitted estimators */\n",
       "  --sklearn-color-fitted-level-0: #f0f8ff;\n",
       "  --sklearn-color-fitted-level-1: #d4ebff;\n",
       "  --sklearn-color-fitted-level-2: #b3dbfd;\n",
       "  --sklearn-color-fitted-level-3: cornflowerblue;\n",
       "\n",
       "  /* Specific color for light theme */\n",
       "  --sklearn-color-text-on-default-background: var(--sg-text-color, var(--theme-code-foreground, var(--jp-content-font-color1, black)));\n",
       "  --sklearn-color-background: var(--sg-background-color, var(--theme-background, var(--jp-layout-color0, white)));\n",
       "  --sklearn-color-border-box: var(--sg-text-color, var(--theme-code-foreground, var(--jp-content-font-color1, black)));\n",
       "  --sklearn-color-icon: #696969;\n",
       "\n",
       "  @media (prefers-color-scheme: dark) {\n",
       "    /* Redefinition of color scheme for dark theme */\n",
       "    --sklearn-color-text-on-default-background: var(--sg-text-color, var(--theme-code-foreground, var(--jp-content-font-color1, white)));\n",
       "    --sklearn-color-background: var(--sg-background-color, var(--theme-background, var(--jp-layout-color0, #111)));\n",
       "    --sklearn-color-border-box: var(--sg-text-color, var(--theme-code-foreground, var(--jp-content-font-color1, white)));\n",
       "    --sklearn-color-icon: #878787;\n",
       "  }\n",
       "}\n",
       "\n",
       "#sk-container-id-2 {\n",
       "  color: var(--sklearn-color-text);\n",
       "}\n",
       "\n",
       "#sk-container-id-2 pre {\n",
       "  padding: 0;\n",
       "}\n",
       "\n",
       "#sk-container-id-2 input.sk-hidden--visually {\n",
       "  border: 0;\n",
       "  clip: rect(1px 1px 1px 1px);\n",
       "  clip: rect(1px, 1px, 1px, 1px);\n",
       "  height: 1px;\n",
       "  margin: -1px;\n",
       "  overflow: hidden;\n",
       "  padding: 0;\n",
       "  position: absolute;\n",
       "  width: 1px;\n",
       "}\n",
       "\n",
       "#sk-container-id-2 div.sk-dashed-wrapped {\n",
       "  border: 1px dashed var(--sklearn-color-line);\n",
       "  margin: 0 0.4em 0.5em 0.4em;\n",
       "  box-sizing: border-box;\n",
       "  padding-bottom: 0.4em;\n",
       "  background-color: var(--sklearn-color-background);\n",
       "}\n",
       "\n",
       "#sk-container-id-2 div.sk-container {\n",
       "  /* jupyter's `normalize.less` sets `[hidden] { display: none; }`\n",
       "     but bootstrap.min.css set `[hidden] { display: none !important; }`\n",
       "     so we also need the `!important` here to be able to override the\n",
       "     default hidden behavior on the sphinx rendered scikit-learn.org.\n",
       "     See: https://github.com/scikit-learn/scikit-learn/issues/21755 */\n",
       "  display: inline-block !important;\n",
       "  position: relative;\n",
       "}\n",
       "\n",
       "#sk-container-id-2 div.sk-text-repr-fallback {\n",
       "  display: none;\n",
       "}\n",
       "\n",
       "div.sk-parallel-item,\n",
       "div.sk-serial,\n",
       "div.sk-item {\n",
       "  /* draw centered vertical line to link estimators */\n",
       "  background-image: linear-gradient(var(--sklearn-color-text-on-default-background), var(--sklearn-color-text-on-default-background));\n",
       "  background-size: 2px 100%;\n",
       "  background-repeat: no-repeat;\n",
       "  background-position: center center;\n",
       "}\n",
       "\n",
       "/* Parallel-specific style estimator block */\n",
       "\n",
       "#sk-container-id-2 div.sk-parallel-item::after {\n",
       "  content: \"\";\n",
       "  width: 100%;\n",
       "  border-bottom: 2px solid var(--sklearn-color-text-on-default-background);\n",
       "  flex-grow: 1;\n",
       "}\n",
       "\n",
       "#sk-container-id-2 div.sk-parallel {\n",
       "  display: flex;\n",
       "  align-items: stretch;\n",
       "  justify-content: center;\n",
       "  background-color: var(--sklearn-color-background);\n",
       "  position: relative;\n",
       "}\n",
       "\n",
       "#sk-container-id-2 div.sk-parallel-item {\n",
       "  display: flex;\n",
       "  flex-direction: column;\n",
       "}\n",
       "\n",
       "#sk-container-id-2 div.sk-parallel-item:first-child::after {\n",
       "  align-self: flex-end;\n",
       "  width: 50%;\n",
       "}\n",
       "\n",
       "#sk-container-id-2 div.sk-parallel-item:last-child::after {\n",
       "  align-self: flex-start;\n",
       "  width: 50%;\n",
       "}\n",
       "\n",
       "#sk-container-id-2 div.sk-parallel-item:only-child::after {\n",
       "  width: 0;\n",
       "}\n",
       "\n",
       "/* Serial-specific style estimator block */\n",
       "\n",
       "#sk-container-id-2 div.sk-serial {\n",
       "  display: flex;\n",
       "  flex-direction: column;\n",
       "  align-items: center;\n",
       "  background-color: var(--sklearn-color-background);\n",
       "  padding-right: 1em;\n",
       "  padding-left: 1em;\n",
       "}\n",
       "\n",
       "\n",
       "/* Toggleable style: style used for estimator/Pipeline/ColumnTransformer box that is\n",
       "clickable and can be expanded/collapsed.\n",
       "- Pipeline and ColumnTransformer use this feature and define the default style\n",
       "- Estimators will overwrite some part of the style using the `sk-estimator` class\n",
       "*/\n",
       "\n",
       "/* Pipeline and ColumnTransformer style (default) */\n",
       "\n",
       "#sk-container-id-2 div.sk-toggleable {\n",
       "  /* Default theme specific background. It is overwritten whether we have a\n",
       "  specific estimator or a Pipeline/ColumnTransformer */\n",
       "  background-color: var(--sklearn-color-background);\n",
       "}\n",
       "\n",
       "/* Toggleable label */\n",
       "#sk-container-id-2 label.sk-toggleable__label {\n",
       "  cursor: pointer;\n",
       "  display: block;\n",
       "  width: 100%;\n",
       "  margin-bottom: 0;\n",
       "  padding: 0.5em;\n",
       "  box-sizing: border-box;\n",
       "  text-align: center;\n",
       "}\n",
       "\n",
       "#sk-container-id-2 label.sk-toggleable__label-arrow:before {\n",
       "  /* Arrow on the left of the label */\n",
       "  content: \"▸\";\n",
       "  float: left;\n",
       "  margin-right: 0.25em;\n",
       "  color: var(--sklearn-color-icon);\n",
       "}\n",
       "\n",
       "#sk-container-id-2 label.sk-toggleable__label-arrow:hover:before {\n",
       "  color: var(--sklearn-color-text);\n",
       "}\n",
       "\n",
       "/* Toggleable content - dropdown */\n",
       "\n",
       "#sk-container-id-2 div.sk-toggleable__content {\n",
       "  max-height: 0;\n",
       "  max-width: 0;\n",
       "  overflow: hidden;\n",
       "  text-align: left;\n",
       "  /* unfitted */\n",
       "  background-color: var(--sklearn-color-unfitted-level-0);\n",
       "}\n",
       "\n",
       "#sk-container-id-2 div.sk-toggleable__content.fitted {\n",
       "  /* fitted */\n",
       "  background-color: var(--sklearn-color-fitted-level-0);\n",
       "}\n",
       "\n",
       "#sk-container-id-2 div.sk-toggleable__content pre {\n",
       "  margin: 0.2em;\n",
       "  border-radius: 0.25em;\n",
       "  color: var(--sklearn-color-text);\n",
       "  /* unfitted */\n",
       "  background-color: var(--sklearn-color-unfitted-level-0);\n",
       "}\n",
       "\n",
       "#sk-container-id-2 div.sk-toggleable__content.fitted pre {\n",
       "  /* unfitted */\n",
       "  background-color: var(--sklearn-color-fitted-level-0);\n",
       "}\n",
       "\n",
       "#sk-container-id-2 input.sk-toggleable__control:checked~div.sk-toggleable__content {\n",
       "  /* Expand drop-down */\n",
       "  max-height: 200px;\n",
       "  max-width: 100%;\n",
       "  overflow: auto;\n",
       "}\n",
       "\n",
       "#sk-container-id-2 input.sk-toggleable__control:checked~label.sk-toggleable__label-arrow:before {\n",
       "  content: \"▾\";\n",
       "}\n",
       "\n",
       "/* Pipeline/ColumnTransformer-specific style */\n",
       "\n",
       "#sk-container-id-2 div.sk-label input.sk-toggleable__control:checked~label.sk-toggleable__label {\n",
       "  color: var(--sklearn-color-text);\n",
       "  background-color: var(--sklearn-color-unfitted-level-2);\n",
       "}\n",
       "\n",
       "#sk-container-id-2 div.sk-label.fitted input.sk-toggleable__control:checked~label.sk-toggleable__label {\n",
       "  background-color: var(--sklearn-color-fitted-level-2);\n",
       "}\n",
       "\n",
       "/* Estimator-specific style */\n",
       "\n",
       "/* Colorize estimator box */\n",
       "#sk-container-id-2 div.sk-estimator input.sk-toggleable__control:checked~label.sk-toggleable__label {\n",
       "  /* unfitted */\n",
       "  background-color: var(--sklearn-color-unfitted-level-2);\n",
       "}\n",
       "\n",
       "#sk-container-id-2 div.sk-estimator.fitted input.sk-toggleable__control:checked~label.sk-toggleable__label {\n",
       "  /* fitted */\n",
       "  background-color: var(--sklearn-color-fitted-level-2);\n",
       "}\n",
       "\n",
       "#sk-container-id-2 div.sk-label label.sk-toggleable__label,\n",
       "#sk-container-id-2 div.sk-label label {\n",
       "  /* The background is the default theme color */\n",
       "  color: var(--sklearn-color-text-on-default-background);\n",
       "}\n",
       "\n",
       "/* On hover, darken the color of the background */\n",
       "#sk-container-id-2 div.sk-label:hover label.sk-toggleable__label {\n",
       "  color: var(--sklearn-color-text);\n",
       "  background-color: var(--sklearn-color-unfitted-level-2);\n",
       "}\n",
       "\n",
       "/* Label box, darken color on hover, fitted */\n",
       "#sk-container-id-2 div.sk-label.fitted:hover label.sk-toggleable__label.fitted {\n",
       "  color: var(--sklearn-color-text);\n",
       "  background-color: var(--sklearn-color-fitted-level-2);\n",
       "}\n",
       "\n",
       "/* Estimator label */\n",
       "\n",
       "#sk-container-id-2 div.sk-label label {\n",
       "  font-family: monospace;\n",
       "  font-weight: bold;\n",
       "  display: inline-block;\n",
       "  line-height: 1.2em;\n",
       "}\n",
       "\n",
       "#sk-container-id-2 div.sk-label-container {\n",
       "  text-align: center;\n",
       "}\n",
       "\n",
       "/* Estimator-specific */\n",
       "#sk-container-id-2 div.sk-estimator {\n",
       "  font-family: monospace;\n",
       "  border: 1px dotted var(--sklearn-color-border-box);\n",
       "  border-radius: 0.25em;\n",
       "  box-sizing: border-box;\n",
       "  margin-bottom: 0.5em;\n",
       "  /* unfitted */\n",
       "  background-color: var(--sklearn-color-unfitted-level-0);\n",
       "}\n",
       "\n",
       "#sk-container-id-2 div.sk-estimator.fitted {\n",
       "  /* fitted */\n",
       "  background-color: var(--sklearn-color-fitted-level-0);\n",
       "}\n",
       "\n",
       "/* on hover */\n",
       "#sk-container-id-2 div.sk-estimator:hover {\n",
       "  /* unfitted */\n",
       "  background-color: var(--sklearn-color-unfitted-level-2);\n",
       "}\n",
       "\n",
       "#sk-container-id-2 div.sk-estimator.fitted:hover {\n",
       "  /* fitted */\n",
       "  background-color: var(--sklearn-color-fitted-level-2);\n",
       "}\n",
       "\n",
       "/* Specification for estimator info (e.g. \"i\" and \"?\") */\n",
       "\n",
       "/* Common style for \"i\" and \"?\" */\n",
       "\n",
       ".sk-estimator-doc-link,\n",
       "a:link.sk-estimator-doc-link,\n",
       "a:visited.sk-estimator-doc-link {\n",
       "  float: right;\n",
       "  font-size: smaller;\n",
       "  line-height: 1em;\n",
       "  font-family: monospace;\n",
       "  background-color: var(--sklearn-color-background);\n",
       "  border-radius: 1em;\n",
       "  height: 1em;\n",
       "  width: 1em;\n",
       "  text-decoration: none !important;\n",
       "  margin-left: 1ex;\n",
       "  /* unfitted */\n",
       "  border: var(--sklearn-color-unfitted-level-1) 1pt solid;\n",
       "  color: var(--sklearn-color-unfitted-level-1);\n",
       "}\n",
       "\n",
       ".sk-estimator-doc-link.fitted,\n",
       "a:link.sk-estimator-doc-link.fitted,\n",
       "a:visited.sk-estimator-doc-link.fitted {\n",
       "  /* fitted */\n",
       "  border: var(--sklearn-color-fitted-level-1) 1pt solid;\n",
       "  color: var(--sklearn-color-fitted-level-1);\n",
       "}\n",
       "\n",
       "/* On hover */\n",
       "div.sk-estimator:hover .sk-estimator-doc-link:hover,\n",
       ".sk-estimator-doc-link:hover,\n",
       "div.sk-label-container:hover .sk-estimator-doc-link:hover,\n",
       ".sk-estimator-doc-link:hover {\n",
       "  /* unfitted */\n",
       "  background-color: var(--sklearn-color-unfitted-level-3);\n",
       "  color: var(--sklearn-color-background);\n",
       "  text-decoration: none;\n",
       "}\n",
       "\n",
       "div.sk-estimator.fitted:hover .sk-estimator-doc-link.fitted:hover,\n",
       ".sk-estimator-doc-link.fitted:hover,\n",
       "div.sk-label-container:hover .sk-estimator-doc-link.fitted:hover,\n",
       ".sk-estimator-doc-link.fitted:hover {\n",
       "  /* fitted */\n",
       "  background-color: var(--sklearn-color-fitted-level-3);\n",
       "  color: var(--sklearn-color-background);\n",
       "  text-decoration: none;\n",
       "}\n",
       "\n",
       "/* Span, style for the box shown on hovering the info icon */\n",
       ".sk-estimator-doc-link span {\n",
       "  display: none;\n",
       "  z-index: 9999;\n",
       "  position: relative;\n",
       "  font-weight: normal;\n",
       "  right: .2ex;\n",
       "  padding: .5ex;\n",
       "  margin: .5ex;\n",
       "  width: min-content;\n",
       "  min-width: 20ex;\n",
       "  max-width: 50ex;\n",
       "  color: var(--sklearn-color-text);\n",
       "  box-shadow: 2pt 2pt 4pt #999;\n",
       "  /* unfitted */\n",
       "  background: var(--sklearn-color-unfitted-level-0);\n",
       "  border: .5pt solid var(--sklearn-color-unfitted-level-3);\n",
       "}\n",
       "\n",
       ".sk-estimator-doc-link.fitted span {\n",
       "  /* fitted */\n",
       "  background: var(--sklearn-color-fitted-level-0);\n",
       "  border: var(--sklearn-color-fitted-level-3);\n",
       "}\n",
       "\n",
       ".sk-estimator-doc-link:hover span {\n",
       "  display: block;\n",
       "}\n",
       "\n",
       "/* \"?\"-specific style due to the `<a>` HTML tag */\n",
       "\n",
       "#sk-container-id-2 a.estimator_doc_link {\n",
       "  float: right;\n",
       "  font-size: 1rem;\n",
       "  line-height: 1em;\n",
       "  font-family: monospace;\n",
       "  background-color: var(--sklearn-color-background);\n",
       "  border-radius: 1rem;\n",
       "  height: 1rem;\n",
       "  width: 1rem;\n",
       "  text-decoration: none;\n",
       "  /* unfitted */\n",
       "  color: var(--sklearn-color-unfitted-level-1);\n",
       "  border: var(--sklearn-color-unfitted-level-1) 1pt solid;\n",
       "}\n",
       "\n",
       "#sk-container-id-2 a.estimator_doc_link.fitted {\n",
       "  /* fitted */\n",
       "  border: var(--sklearn-color-fitted-level-1) 1pt solid;\n",
       "  color: var(--sklearn-color-fitted-level-1);\n",
       "}\n",
       "\n",
       "/* On hover */\n",
       "#sk-container-id-2 a.estimator_doc_link:hover {\n",
       "  /* unfitted */\n",
       "  background-color: var(--sklearn-color-unfitted-level-3);\n",
       "  color: var(--sklearn-color-background);\n",
       "  text-decoration: none;\n",
       "}\n",
       "\n",
       "#sk-container-id-2 a.estimator_doc_link.fitted:hover {\n",
       "  /* fitted */\n",
       "  background-color: var(--sklearn-color-fitted-level-3);\n",
       "}\n",
       "</style><div id=\"sk-container-id-2\" class=\"sk-top-container\"><div class=\"sk-text-repr-fallback\"><pre>LogisticRegression(max_iter=5000)</pre><b>In a Jupyter environment, please rerun this cell to show the HTML representation or trust the notebook. <br />On GitHub, the HTML representation is unable to render, please try loading this page with nbviewer.org.</b></div><div class=\"sk-container\" hidden><div class=\"sk-item\"><div class=\"sk-estimator fitted sk-toggleable\"><input class=\"sk-toggleable__control sk-hidden--visually\" id=\"sk-estimator-id-2\" type=\"checkbox\" checked><label for=\"sk-estimator-id-2\" class=\"sk-toggleable__label fitted sk-toggleable__label-arrow fitted\">&nbsp;&nbsp;LogisticRegression<a class=\"sk-estimator-doc-link fitted\" rel=\"noreferrer\" target=\"_blank\" href=\"https://scikit-learn.org/1.5/modules/generated/sklearn.linear_model.LogisticRegression.html\">?<span>Documentation for LogisticRegression</span></a><span class=\"sk-estimator-doc-link fitted\">i<span>Fitted</span></span></label><div class=\"sk-toggleable__content fitted\"><pre>LogisticRegression(max_iter=5000)</pre></div> </div></div></div></div>"
      ],
      "text/plain": [
       "LogisticRegression(max_iter=5000)"
      ]
     },
     "execution_count": 31,
     "metadata": {},
     "output_type": "execute_result"
    }
   ],
   "source": [
    "# Обучаем модель логистической регрессии на обучающих данных\n",
    "model.fit(X_train, y_train)"
   ]
  },
  {
   "cell_type": "code",
   "execution_count": 32,
   "metadata": {
    "id": "SVO6ub02ftsL"
   },
   "outputs": [],
   "source": [
    "# Делаем предсказания на тестовой выборке\n",
    "y_pred = model.predict(X_test)"
   ]
  },
  {
   "cell_type": "code",
   "execution_count": 33,
   "metadata": {
    "id": "55557ILofwuS"
   },
   "outputs": [],
   "source": [
    "# Импортируем метрики для оценки качества модели\n",
    "from sklearn.metrics import mean_absolute_error, mean_squared_error, r2_score"
   ]
  },
  {
   "cell_type": "code",
   "execution_count": 34,
   "metadata": {
    "id": "x5L2qHxlgeaB"
   },
   "outputs": [],
   "source": [
    "# Проверяем, что реализация метрики MAE соответствует реализации в sklearn\n",
    "assert round(MAError(y_true=y_test, y_predict=y_pred), 3) == round(mean_absolute_error(y_test, y_pred), 3), 'Неверно реализован расчёт'\n",
    "# Проверяем, что реализация метрики MSE соответствует реализации в sklearn\n",
    "assert round(MSError(y_true=y_test, y_predict=y_pred), 3) == round(mean_squared_error(y_test, y_pred), 3), 'Неверно реализован расчёт'\n",
    "# Проверяем, что реализация метрики RMSE соответствует корню из MSE в sklearn\n",
    "assert round(RMSError(y_true=y_test, y_predict=y_pred), 3) == round(np.sqrt(mean_squared_error(y_test, y_pred)), 3), 'Неверно реализован расчёт'\n",
    "# Проверяем, что реализация коэффициента детерминации R² соответствует реализации в sklearn\n",
    "assert round(R_square(y_true=y_test, y_predict=y_pred), 3) == round(r2_score(y_test, y_pred), 3), 'Неверно реализован расчёт'"
   ]
  },
  {
   "cell_type": "markdown",
   "metadata": {
    "id": "v0dkjqe7A7xi"
   },
   "source": [
    "Линейная регрессия - один из наиболее хорошо изученных методов машинного обучения, позволяющий прогнозировать значения количественного признака в виде линейной комбинации прочих признаков с параметрами - весами модели. Оптимальные (в смысле минимальности некоторого функционала ошибки) параметры линейной регрессии можно найти аналитически с помощью нормального уравнения или численно с помощью методов оптимизации.  \n",
    "\n",
    "Линейная регрессия использует простой функционал качества - среднеквадратичную ошибку. Мы будем работать с выборкой, содержащей 3 признака. Для настройки параметров (весов) модели решается следующая задача:\n",
    "$$\\Large \\frac{1}{\\ell}\\sum_{i=1}^\\ell{{((w_0 + w_1x_{i1} + w_2x_{i2} +  w_3x_{i3}) - y_i)}^2} \\rightarrow \\min_{w_0, w_1, w_2, w_3},$$\n",
    "где $x_{i1}, x_{i2}, x_{i3}$ - значения признаков $i$-го объекта, $y_i$ - значение целевого признака $i$-го объекта, $\\ell$ - число объектов в обучающей выборке."
   ]
  },
  {
   "cell_type": "markdown",
   "metadata": {
    "id": "Txu1pMe0CT2E"
   },
   "source": [
    "Нахождение вектора оптимальных весов $w$ может быть сделано и аналитически.\n",
    "Мы хотим найти такой вектор весов $w$, чтобы вектор $y$, приближающий целевой признак, получался умножением матрицы $X$ (состоящей из всех признаков объектов обучающей выборки, кроме целевого) на вектор весов $w$. То есть, чтобы выполнялось матричное уравнение:\n",
    "$$\\Large y = Xw$$\n",
    "Домножением слева на $X^T$ получаем:\n",
    "$$\\Large X^Ty = X^TXw$$\n",
    "Это хорошо, поскольку теперь матрица $X^TX$ - квадратная, и можно найти решение (вектор $w$) в виде:\n",
    "$$\\Large w = {(X^TX)}^{-1}X^Ty$$\n",
    "\n",
    "\n",
    "Но все же на практике для больших матриц $X$ быстрее работает градиентный спуск, особенно его стохастическая версия."
   ]
  },
  {
   "cell_type": "markdown",
   "metadata": {
    "id": "ayNfj3es8RLr"
   },
   "source": [
    "__Реализуйте функции__\n",
    "1. __normal_equation__, которая по заданным матрицам (массивам NumPy) X* и *y вычисляет вектор весов  𝑤  согласно нормальному уравнению линейной регрессии.\n",
    "\n",
    "2. __linear_prediction__, которая принимает на вход матрицу X* и вектор весов линейной модели *w, а возвращает вектор прогнозов в виде линейной комбинации столбцов матрицы X* с весами *w."
   ]
  },
  {
   "cell_type": "code",
   "execution_count": 35,
   "metadata": {
    "colab": {
     "base_uri": "https://localhost:8080/",
     "height": 221
    },
    "id": "EQrLxLXkBBny",
    "outputId": "82a39b4b-4d92-4033-eb04-d7f4d5651f44"
   },
   "outputs": [
    {
     "name": "stdout",
     "output_type": "stream",
     "text": [
      "Вектор весов w: [151.34560454   1.80291044 -11.50907105  25.80070495  16.53858529\n",
      " -44.30640613  24.64170961   7.77309591  13.09553713  35.01740872\n",
      "   2.31502709]\n",
      "Предсказания: [139.5475584  179.51720835 134.03875572 291.41702925 123.78965872\n",
      "  92.1723465  258.23238899 181.33732057  90.22411311 108.63375858\n",
      "  94.13865744 168.43486358  53.5047888  206.63081659 100.12925869\n",
      " 130.66657085 219.53071499 250.7803234  196.3688346  218.57511815\n",
      " 207.35050182  88.48340941  70.43285917 188.95914235 154.8868162\n",
      " 159.36170122 188.31263363 180.39094033  47.99046561 108.97453871\n",
      " 174.77897633  86.36406656 132.95761215 184.53819483 173.83220911\n",
      " 190.35858492 124.4156176  119.65110656 147.95168682  59.05405241\n",
      "  71.62331856 107.68284704 165.45365458 155.00975931 171.04799096\n",
      "  61.45761356  71.66672581 114.96732206  51.57975523 167.57599528\n",
      " 152.52291955  62.95568515 103.49741722 109.20751489 175.64118426\n",
      " 154.60296242  94.41704366 210.74209145 120.2566205   77.61585399\n",
      " 187.93203995 206.49337474 140.63167076 105.59678023 130.70432536\n",
      " 202.18534537 171.13039501 164.91423047 124.72472569 144.81030894\n",
      " 181.99635452 199.41369642 234.21436188 145.95665512  79.86703276\n",
      " 157.36941275 192.74412541 208.89814032 158.58722555 206.02195855\n",
      " 107.47971675 140.93598906  54.82129332  55.92573195 115.01180018\n",
      "  78.95584188  81.56087285  54.37997256 166.2543518 ]\n"
     ]
    }
   ],
   "source": [
    "# Функция для вычисления весов линейной регрессии методом нормальных уравнений\n",
    "def normal_equation(X, y):\n",
    "    X_b = np.c_[np.ones((X.shape[0], 1)), X]  # Добавляем столбец единиц для свободного члена\n",
    "    w = np.linalg.pinv(X_b.T @ X_b) @ X_b.T @ y  # Вычисляем веса с использованием псевдообратной матрицы\n",
    "    return w\n",
    "\n",
    "# Функция для вычисления предсказаний линейной регрессии\n",
    "def linear_prediction(X, w):\n",
    "    X_b = np.c_[np.ones((X.shape[0], 1)), X]  # Добавляем столбец единиц для свободного члена\n",
    "    predictions = X_b @ w  # Вычисляем предсказания\n",
    "    return predictions\n",
    "\n",
    "# Вычисляем веса линейной регрессии методом нормальных уравнений\n",
    "w = normal_equation(X_train, y_train)\n",
    "print(\"Вектор весов w:\", w)\n",
    "\n",
    "# Выполняем предсказания на тестовой выборке\n",
    "predictions = linear_prediction(X_test, w)\n",
    "print(\"Предсказания:\", predictions)"
   ]
  },
  {
   "cell_type": "code",
   "execution_count": 36,
   "metadata": {
    "colab": {
     "base_uri": "https://localhost:8080/"
    },
    "executionInfo": {
     "elapsed": 2,
     "status": "ok",
     "timestamp": 1673729654802,
     "user": {
      "displayName": "Лев Барабанщиков (I Smartyy I)",
      "userId": "03927496533933058806"
     },
     "user_tz": -180
    },
    "id": "GM7Jz5_jECAk",
    "outputId": "e48b52e2-e4e5-4344-e713-45fb121b5c44"
   },
   "outputs": [
    {
     "name": "stdout",
     "output_type": "stream",
     "text": [
      "3348.8314606741574\n"
     ]
    }
   ],
   "source": [
    "# Считаем метрику MSE для тестовой выборки, предсказанной нормальным уравнением\n",
    "test_data = X_test  # Данные, которые вы использовали для тестирования\n",
    "test_target = y_test\n",
    "norm_eq_weights = w\n",
    "tip_pred = MSError(test_target.to_numpy(), linear_prediction(test_data, norm_eq_weights))\n",
    "print(tip_pred)\n",
    "\n",
    "# Проверяем корректность пользовательской реализации метрики MSE\n",
    "assert round(MSError(test_target.to_numpy(), linear_prediction(test_data, norm_eq_weights)), 3) == 3348.831, 'Не верно реализован расчёт'"
   ]
  },
  {
   "cell_type": "code",
   "execution_count": 37,
   "metadata": {
    "id": "qKSL2tzX0Oam"
   },
   "outputs": [],
   "source": [
    "# Обучаем линейную регрессию на тренировочных данных и делаем предсказания\n",
    "train_data, test_data, train_target, test_target = train_test_split(features, target, test_size=0.2, random_state=42)\n",
    "LinReg = LinearRegression()\n",
    "LinReg.fit(train_data, train_target)\n",
    "ans1 = LinReg.predict(test_data)"
   ]
  },
  {
   "cell_type": "code",
   "execution_count": 38,
   "metadata": {
    "colab": {
     "base_uri": "https://localhost:8080/",
     "height": 34
    },
    "id": "vOoP29Jx2zZM",
    "outputId": "33ac9048-1ac4-455d-857a-482658dd7f40"
   },
   "outputs": [
    {
     "data": {
      "text/plain": [
       "np.float64(2900.1936284934814)"
      ]
     },
     "execution_count": 38,
     "metadata": {},
     "output_type": "execute_result"
    }
   ],
   "source": [
    "# Просто выполнить\n",
    "# Считаем среднеквадратичную ошибку для предсказаний линейной регрессии\n",
    "mean_squared_error(test_target, ans1)"
   ]
  }
 ],
 "metadata": {
  "colab": {
   "provenance": [],
   "toc_visible": true
  },
  "kernelspec": {
   "display_name": ".venv",
   "language": "python",
   "name": "python3"
  },
  "language_info": {
   "codemirror_mode": {
    "name": "ipython",
    "version": 3
   },
   "file_extension": ".py",
   "mimetype": "text/x-python",
   "name": "python",
   "nbconvert_exporter": "python",
   "pygments_lexer": "ipython3",
   "version": "3.10.11"
  }
 },
 "nbformat": 4,
 "nbformat_minor": 4
}
