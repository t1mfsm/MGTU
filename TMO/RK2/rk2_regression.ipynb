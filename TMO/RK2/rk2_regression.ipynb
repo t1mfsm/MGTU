{
 "cells": [
  {
   "cell_type": "markdown",
   "id": "21f09643",
   "metadata": {},
   "source": [
    "# Шакиров Тимур Маратович\n",
    "\n",
    "## ИУ5-65Б\n",
    "\n",
    "### 19 вариант"
   ]
  },
  {
   "cell_type": "code",
   "execution_count": 1,
   "id": "44eec364",
   "metadata": {},
   "outputs": [],
   "source": [
    "import pandas as pd\n",
    "import numpy as np\n",
    "from sklearn.model_selection import train_test_split\n",
    "from sklearn.svm import SVR\n",
    "from sklearn.ensemble import GradientBoostingRegressor\n",
    "from sklearn.metrics import mean_absolute_error, mean_squared_error\n",
    "from sklearn.preprocessing import LabelEncoder"
   ]
  },
  {
   "cell_type": "code",
   "execution_count": 3,
   "id": "b22b31d1",
   "metadata": {},
   "outputs": [],
   "source": [
    "df = pd.read_csv('investments_VC_regression.csv', encoding='latin1', sep=None, engine='python')"
   ]
  },
  {
   "cell_type": "code",
   "execution_count": 4,
   "id": "61d246e8",
   "metadata": {},
   "outputs": [],
   "source": [
    "df.columns = df.columns.str.strip()"
   ]
  },
  {
   "cell_type": "code",
   "execution_count": 5,
   "id": "cf04591a",
   "metadata": {},
   "outputs": [],
   "source": [
    "df = df[['funding_total_usd', 'country_code', 'funding_rounds', 'founded_year']]"
   ]
  },
  {
   "cell_type": "code",
   "execution_count": 6,
   "id": "65592589",
   "metadata": {},
   "outputs": [],
   "source": [
    "df['funding_total_usd'] = df['funding_total_usd'].replace('[\\$,]', '', regex=True).replace('None', np.nan)\n",
    "df['funding_total_usd'] = pd.to_numeric(df['funding_total_usd'], errors='coerce')\n",
    "df['funding_total_usd'] = df['funding_total_usd'].fillna(df['funding_total_usd'].median())"
   ]
  },
  {
   "cell_type": "code",
   "execution_count": 7,
   "id": "e09f5af0",
   "metadata": {},
   "outputs": [],
   "source": [
    "df['founded_year'] = pd.to_numeric(df['founded_year'], errors='coerce')\n",
    "df['founded_year'] = df['founded_year'].fillna(df['founded_year'].median())\n",
    "df['funding_rounds'] = df['funding_rounds'].fillna(df['funding_rounds'].median())\n",
    "df['country_code'] = df['country_code'].fillna('UNKNOWN')"
   ]
  },
  {
   "cell_type": "code",
   "execution_count": 8,
   "id": "b8ea9772",
   "metadata": {},
   "outputs": [],
   "source": [
    "le = LabelEncoder()\n",
    "df['country_code'] = le.fit_transform(df['country_code'])"
   ]
  },
  {
   "cell_type": "code",
   "execution_count": 9,
   "id": "d01108b3",
   "metadata": {},
   "outputs": [],
   "source": [
    "X = df.drop('funding_total_usd', axis=1)\n",
    "y = df['funding_total_usd']"
   ]
  },
  {
   "cell_type": "code",
   "execution_count": 10,
   "id": "4ffc9eb0",
   "metadata": {},
   "outputs": [],
   "source": [
    "X_train, X_test, y_train, y_test = train_test_split(X, y, test_size=0.2, random_state=42)"
   ]
  },
  {
   "cell_type": "code",
   "execution_count": 11,
   "id": "2e7261fa",
   "metadata": {},
   "outputs": [],
   "source": [
    "svr = SVR()\n",
    "svr.fit(X_train, y_train)\n",
    "y_pred_svr = svr.predict(X_test)"
   ]
  },
  {
   "cell_type": "code",
   "execution_count": 12,
   "id": "27436769",
   "metadata": {},
   "outputs": [],
   "source": [
    "gbr = GradientBoostingRegressor()\n",
    "gbr.fit(X_train, y_train)\n",
    "y_pred_gbr = gbr.predict(X_test)"
   ]
  },
  {
   "cell_type": "code",
   "execution_count": 13,
   "id": "774d0a68",
   "metadata": {},
   "outputs": [],
   "source": [
    "def print_metrics(y_true, y_pred, model_name):\n",
    "    mae = mean_absolute_error(y_true, y_pred)\n",
    "    rmse = np.sqrt(mean_squared_error(y_true, y_pred))\n",
    "    print(f'{model_name}:\\nMAE: {mae:.2f}\\nRMSE: {rmse:.2f}\\n')"
   ]
  },
  {
   "cell_type": "code",
   "execution_count": 14,
   "id": "3e99d5ef",
   "metadata": {},
   "outputs": [
    {
     "name": "stdout",
     "output_type": "stream",
     "text": [
      "SVR:\n",
      "MAE: 10405733.69\n",
      "RMSE: 42719576.40\n",
      "\n",
      "Gradient Boosting Regressor:\n",
      "MAE: 12857368.24\n",
      "RMSE: 41356065.70\n",
      "\n"
     ]
    }
   ],
   "source": [
    "print_metrics(y_test, y_pred_svr, 'SVR')\n",
    "print_metrics(y_test, y_pred_gbr, 'Gradient Boosting Regressor')"
   ]
  },
  {
   "cell_type": "markdown",
   "id": "ecb3b410",
   "metadata": {},
   "source": [
    "### Классификация или регессия?"
   ]
  },
  {
   "cell_type": "markdown",
   "id": "4f2667cb",
   "metadata": {},
   "source": [
    "В данном случае используется регрессия.\n",
    "Мы предсказывали не категориальную переменную, а непрерывную величину — размер финансирования (funding_total_usd), что и определяет тип задачи как регрессионный.\n"
   ]
  },
  {
   "cell_type": "markdown",
   "id": "96d54ee8",
   "metadata": {},
   "source": [
    "### Какие метрики качества Вы использовали и почему?"
   ]
  },
  {
   "cell_type": "markdown",
   "id": "2e7c1ca8",
   "metadata": {},
   "source": [
    "Мы использовали две основные метрики для оценки качества регрессионных моделей:\n",
    "\n",
    "* MAE (Mean Absolute Error) — средняя абсолютная ошибка:\n",
    "\n",
    "    * Показывает среднюю величину отклонения предсказания от фактического значения.\n",
    "\n",
    "    * Удобна тем, что измеряется в тех же единицах, что и целевая переменная.\n",
    "\n",
    "    * Устойчива к выбросам, в отличие от RMSE.\n",
    "\n",
    "* RMSE (Root Mean Squared Error) — среднеквадратичная ошибка:\n",
    "\n",
    "    * Более чувствительна к крупным ошибкам, потому что ошибки возводятся в квадрат.\n",
    "\n",
    "    * Помогает понять, насколько сильно модель может ошибаться в наихудших случаях.\n",
    "\n",
    "    * Хорошо показывает наличие/влияние выбросов.\n",
    "\n",
    "Выбор этих двух метрик позволяет объективно оценить качество модели: MAE показывает среднюю точность, RMSE — чувствительность к ошибкам."
   ]
  },
  {
   "cell_type": "markdown",
   "id": "3e76116f",
   "metadata": {},
   "source": [
    "### Какие выводы можно сделать о качестве построенных моделей?"
   ]
  },
  {
   "cell_type": "markdown",
   "id": "bd9a2a7b",
   "metadata": {},
   "source": [
    "* Обе модели (SVR и Gradient Boosting Regressor) показали сравнимые результаты по MAE и RMSE:\n",
    "\n",
    "    * SVR:\n",
    "\n",
    "        * MAE ≈ 10.4 млн,\n",
    "\n",
    "        * RMSE ≈ 42.7 млн\n",
    "\n",
    "    * Градиентный бустинг:\n",
    "\n",
    "        * MAE ≈ 12.8 млн,\n",
    "\n",
    "        * RMSE ≈ 41.3 млн\n",
    "\n",
    "* SVR показал более низкое среднее абсолютное отклонение (MAE), но более высокое RMSE, что говорит о том, что он чаще делает более точные предсказания, но может сильно ошибаться на некоторых выбросах.\n",
    "\n",
    "* Gradient Boosting оказался немного устойчивее к выбросам, судя по чуть более низкому RMSE, но в среднем ошибался сильнее (выше MAE).\n",
    "\n",
    "#### Вывод:\n",
    "\n",
    "* Оба метода справились средне — ошибки довольно большие (десятки миллионов долларов).\n",
    "\n",
    "* Вероятно, распределение целевой переменной (funding_total_usd) имеет много выбросов, что делает задачу сложной.\n",
    "\n",
    "* Можно попробовать улучшить модели путём:\n",
    "\n",
    "    * логарифмирования целевой переменной,\n",
    "\n",
    "    * отбора фичей,\n",
    "\n",
    "    * нормализации данных,\n",
    "\n",
    "    * работы с выбросами."
   ]
  }
 ],
 "metadata": {
  "kernelspec": {
   "display_name": "Python 3",
   "language": "python",
   "name": "python3"
  },
  "language_info": {
   "codemirror_mode": {
    "name": "ipython",
    "version": 3
   },
   "file_extension": ".py",
   "mimetype": "text/x-python",
   "name": "python",
   "nbconvert_exporter": "python",
   "pygments_lexer": "ipython3",
   "version": "3.10.11"
  }
 },
 "nbformat": 4,
 "nbformat_minor": 5
}
