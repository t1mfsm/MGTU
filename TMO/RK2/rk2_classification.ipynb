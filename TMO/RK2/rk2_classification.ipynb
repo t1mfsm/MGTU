{
 "cells": [
  {
   "cell_type": "markdown",
   "id": "56bb8c4a",
   "metadata": {},
   "source": [
    "# Шакиров Тимур Маратович\n",
    "\n",
    "## ИУ5-65Б\n",
    "\n",
    "### 19 вариант"
   ]
  },
  {
   "cell_type": "code",
   "execution_count": 27,
   "id": "67652699",
   "metadata": {},
   "outputs": [],
   "source": [
    "import pandas as pd\n",
    "import numpy as np\n",
    "from sklearn.model_selection import train_test_split\n",
    "from sklearn.preprocessing import LabelEncoder, StandardScaler\n",
    "from sklearn.svm import SVC\n",
    "from sklearn.ensemble import GradientBoostingClassifier\n",
    "from sklearn.metrics import accuracy_score, f1_score, classification_report"
   ]
  },
  {
   "cell_type": "code",
   "execution_count": 7,
   "id": "115b67d4",
   "metadata": {},
   "outputs": [],
   "source": [
    "df = pd.read_csv('investments_VC.csv', encoding='latin1', sep=None, engine='python', on_bad_lines='skip')"
   ]
  },
  {
   "cell_type": "code",
   "execution_count": 11,
   "id": "3e5e8c03",
   "metadata": {},
   "outputs": [],
   "source": [
    "df = df[['status', ' funding_total_usd ', 'country_code', 'funding_rounds', 'founded_year']]\n",
    "df = df.dropna(subset=['status'])"
   ]
  },
  {
   "cell_type": "code",
   "execution_count": 12,
   "id": "d3d8c18d",
   "metadata": {},
   "outputs": [],
   "source": [
    "df['status'] = df['status'].apply(lambda x: 'acquired' if x == 'acquired' else 'other')"
   ]
  },
  {
   "cell_type": "code",
   "execution_count": 15,
   "id": "91f3a1d2",
   "metadata": {},
   "outputs": [],
   "source": [
    "df[' funding_total_usd '] = df[' funding_total_usd '].replace('[\\$,]', '', regex=True).replace('None', np.nan)\n",
    "df[' funding_total_usd '] = pd.to_numeric(df[' funding_total_usd '], errors='coerce')\n",
    "median_value = df[' funding_total_usd '].median()\n",
    "df[' funding_total_usd '] = df[' funding_total_usd '].fillna(median_value)\n"
   ]
  },
  {
   "cell_type": "code",
   "execution_count": 17,
   "id": "5d9189f6",
   "metadata": {},
   "outputs": [],
   "source": [
    "df['founded_year'] = df['founded_year'].fillna(df['founded_year'].median())\n",
    "df['funding_rounds'] = df['funding_rounds'].fillna(df['funding_rounds'].median())\n",
    "df['country_code'] = df['country_code'].fillna('UNKNOWN')"
   ]
  },
  {
   "cell_type": "code",
   "execution_count": 18,
   "id": "4478982f",
   "metadata": {},
   "outputs": [],
   "source": [
    "df['country_code'] = LabelEncoder().fit_transform(df['country_code'])\n",
    "df['status'] = LabelEncoder().fit_transform(df['status'])"
   ]
  },
  {
   "cell_type": "code",
   "execution_count": 19,
   "id": "180205ef",
   "metadata": {},
   "outputs": [],
   "source": [
    "X = df.drop(columns='status')\n",
    "y = df['status']"
   ]
  },
  {
   "cell_type": "code",
   "execution_count": 20,
   "id": "d1b89eb8",
   "metadata": {},
   "outputs": [],
   "source": [
    "scaler = StandardScaler()\n",
    "X_scaled = scaler.fit_transform(X)"
   ]
  },
  {
   "cell_type": "code",
   "execution_count": 21,
   "id": "84f9dc1b",
   "metadata": {},
   "outputs": [],
   "source": [
    "X_train, X_test, y_train, y_test = train_test_split(X_scaled, y, test_size=0.2, random_state=42)"
   ]
  },
  {
   "cell_type": "code",
   "execution_count": 22,
   "id": "7fc12ff0",
   "metadata": {},
   "outputs": [],
   "source": [
    "svm = SVC()\n",
    "svm.fit(X_train, y_train)\n",
    "y_pred_svm = svm.predict(X_test)"
   ]
  },
  {
   "cell_type": "code",
   "execution_count": 23,
   "id": "1d93029b",
   "metadata": {},
   "outputs": [],
   "source": [
    "gb = GradientBoostingClassifier()\n",
    "gb.fit(X_train, y_train)\n",
    "y_pred_gb = gb.predict(X_test)"
   ]
  },
  {
   "cell_type": "code",
   "execution_count": 29,
   "id": "64c378e7",
   "metadata": {},
   "outputs": [
    {
     "name": "stdout",
     "output_type": "stream",
     "text": [
      "SVM:\n",
      "Accuracy: 0.9243557772236076\n",
      "F1 Score: 0.9606911447084233\n",
      "              precision    recall  f1-score   support\n",
      "\n",
      "           0       0.00      0.00      0.00       728\n",
      "           1       0.92      1.00      0.96      8896\n",
      "\n",
      "    accuracy                           0.92      9624\n",
      "   macro avg       0.46      0.50      0.48      9624\n",
      "weighted avg       0.85      0.92      0.89      9624\n",
      "\n"
     ]
    }
   ],
   "source": [
    "print(\"SVM:\")\n",
    "print(\"Accuracy:\", accuracy_score(y_test, y_pred_svm))\n",
    "print(\"F1 Score:\", f1_score(y_test, y_pred_svm))\n",
    "print(classification_report(y_test, y_pred_svm, zero_division=0))"
   ]
  },
  {
   "cell_type": "code",
   "execution_count": 30,
   "id": "341bed81",
   "metadata": {},
   "outputs": [
    {
     "name": "stdout",
     "output_type": "stream",
     "text": [
      "Gradient Boosting:\n",
      "Accuracy: 0.9240440565253533\n",
      "F1 Score: 0.960522762866555\n",
      "              precision    recall  f1-score   support\n",
      "\n",
      "           0       0.00      0.00      0.00       728\n",
      "           1       0.92      1.00      0.96      8896\n",
      "\n",
      "    accuracy                           0.92      9624\n",
      "   macro avg       0.46      0.50      0.48      9624\n",
      "weighted avg       0.85      0.92      0.89      9624\n",
      "\n"
     ]
    }
   ],
   "source": [
    "print(\"Gradient Boosting:\")\n",
    "print(\"Accuracy:\", accuracy_score(y_test, y_pred_gb))\n",
    "print(\"F1 Score:\", f1_score(y_test, y_pred_gb))\n",
    "print(classification_report(y_test, y_pred_gb, zero_division=0))"
   ]
  },
  {
   "cell_type": "markdown",
   "id": "eb91dc54",
   "metadata": {},
   "source": [
    "### Классификация или регрессия?"
   ]
  },
  {
   "cell_type": "markdown",
   "id": "8c8d6428",
   "metadata": {},
   "source": [
    "В данной работе решалась задача классификации, а не регрессии. Это определяется по следующим признакам:\n",
    "\n",
    "* Целевая переменная status была преобразована в двоичный классификационный признак:\n",
    "\n",
    "    * 0 — компании со статусом \"acquired\"\n",
    "\n",
    "    * 1 — компании с любым другим статусом (\"other\")\n",
    "\n",
    "* Были использованы модели классификации:\n",
    "\n",
    "    * Метод опорных векторов (SVM) — SVC\n",
    "\n",
    "    * Градиентный бустинг — GradientBoostingClassifier\n",
    "\n",
    "* Для оценки качества моделей применялись метрики классификации:\n",
    "\n",
    "    * Accuracy\n",
    "\n",
    "    * F1-score\n",
    "\n",
    "    * А также precision и recall из отчёта classification_report\n",
    "\n",
    "Таким образом, несмотря на наличие числовых признаков в данных, задача направлена на предсказание категории (принадлежит ли компания к классу \"acquired\" или нет), а не на предсказание непрерывной величины, что однозначно указывает на тип задачи — классификация."
   ]
  },
  {
   "cell_type": "markdown",
   "id": "40f2ca91",
   "metadata": {},
   "source": [
    "### Какие метрики качества Вы использовали и почему?"
   ]
  },
  {
   "cell_type": "markdown",
   "id": "7394e933",
   "metadata": {},
   "source": [
    "В данной задаче были использованы следующие метрики:\n",
    "\n",
    "1. Accuracy (доля правильных предсказаний) — показывает, какая часть объектов была классифицирована правильно. Это базовая метрика, но она может быть обманчивой при несбалансированных классах.\n",
    "\n",
    "2. F1-Score (гармоническое среднее между precision и recall) — особенно полезна в задачах с несбалансированными классами. В данном случае класс \"acquired\" встречается редко, и F1-score лучше отражает реальное качество модели.\n",
    "\n",
    "Также был выведен classification report, содержащий:\n",
    "\n",
    "* precision — точность (сколько из предсказанных как \"acquired\" реально были такими),\n",
    "\n",
    "* recall — полнота (сколько из всех настоящих \"acquired\" модель нашла),\n",
    "\n",
    "* f1-score — итоговая мера качества."
   ]
  },
  {
   "cell_type": "markdown",
   "id": "a6448b59",
   "metadata": {},
   "source": [
    "### Какие выводы можно сделать о качестве построенных моделей?"
   ]
  },
  {
   "cell_type": "markdown",
   "id": "4f1e542a",
   "metadata": {},
   "source": [
    "1. Высокое значение Accuracy (~92%) и F1-Score (~0.96) для класса 1 (\"other\") говорит о том, что модель хорошо распознаёт основной (мажоритарный) класс.\n",
    "\n",
    "2. Класс \"acquired\" (метка 0):\n",
    "\n",
    "* precision = 0, recall = 0, f1-score = 0 — модель вообще не распознала ни одного объекта этого класса. Это говорит о сильном дисбалансе классов.\n",
    "\n",
    "* Подтверждается тем, что из 9624 объектов — только 728 (≈7.6%) относятся к классу 0.\n",
    "\n",
    "3. SVM и Gradient Boosting показывают почти одинаковые результаты, но обе модели склонны игнорировать редкий класс."
   ]
  }
 ],
 "metadata": {
  "kernelspec": {
   "display_name": "Python 3",
   "language": "python",
   "name": "python3"
  },
  "language_info": {
   "codemirror_mode": {
    "name": "ipython",
    "version": 3
   },
   "file_extension": ".py",
   "mimetype": "text/x-python",
   "name": "python",
   "nbconvert_exporter": "python",
   "pygments_lexer": "ipython3",
   "version": "3.10.11"
  }
 },
 "nbformat": 4,
 "nbformat_minor": 5
}
